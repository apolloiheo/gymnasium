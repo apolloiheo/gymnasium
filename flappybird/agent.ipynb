{
 "cells": [
  {
   "attachments": {},
   "cell_type": "markdown",
   "metadata": {},
   "source": [
    "# Training an Agent"
   ]
  },
  {
   "cell_type": "code",
   "execution_count": 1,
   "metadata": {},
   "outputs": [],
   "source": [
    "from agent import *\n",
    "from solver import *\n",
    "\n",
    "import time\n",
    "import numpy as np\n",
    "\n",
    "import matplotlib.pyplot as plt\n",
    "%matplotlib inline\n",
    "\n",
    "%load_ext autoreload\n",
    "%autoreload 2"
   ]
  },
  {
   "cell_type": "code",
   "execution_count": 2,
   "metadata": {},
   "outputs": [
    {
     "name": "stdout",
     "output_type": "stream",
     "text": [
      "Gen 0:\tBest: 10\n",
      "Gen 10:\tBest: 57\n"
     ]
    }
   ],
   "source": [
    "data, population = Solver(env).solve(lambda obs: np.array(obs), 6, population_size=10, generations=10, verbose=True)"
   ]
  },
  {
   "cell_type": "code",
   "execution_count": 3,
   "metadata": {},
   "outputs": [
    {
     "name": "stdout",
     "output_type": "stream",
     "text": [
      "Gen 0:\tBest: 23\n",
      "Gen 10:\tBest: 80\n",
      "Gen 20:\tBest: 46\n",
      "Gen 30:\tBest: 81\n",
      "Gen 40:\tBest: 123\n",
      "Gen 50:\tBest: 181\n",
      "Gen 60:\tBest: 198\n",
      "Gen 70:\tBest: 203\n",
      "Gen 80:\tBest: 229\n",
      "Gen 90:\tBest: 444\n",
      "Gen 100:\tBest: 320\n"
     ]
    }
   ],
   "source": [
    "data, population = Solver(env).solve(\n",
    "    lambda obs: np.array(obs), 6, population_size=25,\n",
    "    generations=100, initial_pop=1000, verbose=True)"
   ]
  },
  {
   "cell_type": "code",
   "execution_count": 4,
   "metadata": {},
   "outputs": [
    {
     "data": {
      "text/plain": [
       "array([ 18,  21,  19,   2,  99,  11,  57, 127, 320,   4, 199,  26,   6,\n",
       "         9,   7,   2, 161,  37, 107,  39,  36,   2,  69,   5, 211])"
      ]
     },
     "execution_count": 4,
     "metadata": {},
     "output_type": "execute_result"
    }
   ],
   "source": [
    "np.array(data[-1]['scores'])"
   ]
  },
  {
   "cell_type": "code",
   "execution_count": 5,
   "metadata": {},
   "outputs": [
    {
     "data": {
      "text/plain": [
       "(433.90000000003016, 115)"
      ]
     },
     "execution_count": 5,
     "metadata": {},
     "output_type": "execute_result"
    }
   ],
   "source": [
    "simulate(lambda obs: population[8].predict(np.array(obs)), graphics=False) "
   ]
  },
  {
   "attachments": {},
   "cell_type": "markdown",
   "metadata": {},
   "source": [
    "## Comments\n",
    "Initial random population significantly affects how successful future generations will be. Often times, because the initial sample has bad parameters, it will take very long before mutations become significant enough for future generations to consistently obtain a nonzero score.\n",
    "\n",
    "This naive approach also fails to create birds that consistently score better than a couple hundred with huge fluctuations. Obviously, this was expected as only the top 2 performers of each generation get to reproduce--there is too much incest. Also, noteably, the mutations make many children perform very poorly."
   ]
  },
  {
   "attachments": {},
   "cell_type": "markdown",
   "metadata": {},
   "source": []
  }
 ],
 "metadata": {
  "kernelspec": {
   "display_name": "env_3_7_16",
   "language": "python",
   "name": "python3"
  },
  "language_info": {
   "codemirror_mode": {
    "name": "ipython",
    "version": 3
   },
   "file_extension": ".py",
   "mimetype": "text/x-python",
   "name": "python",
   "nbconvert_exporter": "python",
   "pygments_lexer": "ipython3",
   "version": "3.7.16"
  },
  "orig_nbformat": 4
 },
 "nbformat": 4,
 "nbformat_minor": 2
}
